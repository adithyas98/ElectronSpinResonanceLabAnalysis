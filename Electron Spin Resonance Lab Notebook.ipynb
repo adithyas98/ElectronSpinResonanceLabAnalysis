{
 "cells": [
  {
   "cell_type": "markdown",
   "metadata": {},
   "source": [
    "\n",
    "# <center> Electron Spin Resonance Lab Notebook </center>\n",
    "## <center> Adithya Shastry </center>\n",
    "## <center> May 2nd, 2020 </center>"
   ]
  },
  {
   "cell_type": "markdown",
   "metadata": {},
   "source": [
    "In this Lab Notebook I will be analyzing the Electron Spin Resonance Data. Through this experiment we will try to detect and Characterize the spin of electrons in the molecule DDPH. This will be done through the Continuous Wave method since it is the simplest method used to detect the resonance of electrons. The steps taken in this Lab Notebook are in accordance with the steps for analysis detailed in the lab manual for this particular experiment as written by Professor Conover. "
   ]
  },
  {
   "cell_type": "code",
   "execution_count": 11,
   "metadata": {
    "collapsed": true
   },
   "outputs": [],
   "source": [
    "import pandas as pd\n",
    "import numpy as np\n",
    "import matplotlib.pyplot as plt\n",
    "import seaborn as sns\n",
    "%matplotlib inline"
   ]
  },
  {
   "cell_type": "markdown",
   "metadata": {},
   "source": [
    "### Linear Regression"
   ]
  },
  {
   "cell_type": "code",
   "execution_count": 12,
   "metadata": {
    "collapsed": true
   },
   "outputs": [],
   "source": [
    "def linearRegression(x,y):\n",
    "    '''this function will take as an input two 1D numpy arrays and\n",
    "    will output the linear regression model with errors. \n",
    "    This will output the following Tuple: (slope,intercept,slopeError,InterceptError)'''\n",
    "    #First we will calculate X,Z,N,Y,B\n",
    "    N=x.size\n",
    "    Z=(x**2).sum()\n",
    "    X=x.sum()\n",
    "    Y=y.sum()\n",
    "    B=(x*y).sum()\n",
    "    delta=(N*Z)-(X**2)\n",
    "    #Now calculate m and b\n",
    "    m=(N*B-X*Y)/delta\n",
    "    b=(Z*Y-X*B)/delta\n",
    "    #now calculate the errors\n",
    "    predicts=m*x+b\n",
    "    errorSquared=(y-predicts)**2\n",
    "    errorSquaredSum=errorSquared.sum()\n",
    "    sigmaSquared=errorSquaredSum/N\n",
    "    m_error=np.sqrt((N*sigmaSquared)/delta)\n",
    "    b_error=np.sqrt((Z*sigmaSquared)/delta)\n",
    "    return m,b,m_error,b_error"
   ]
  },
  {
   "cell_type": "markdown",
   "metadata": {
    "collapsed": true
   },
   "source": [
    "### Resonance Frequencies\n",
    "First we, will read in the the Resonance Frequencies data and do a linear regression on it. I have separated the data into different sheets to make it easier to read in."
   ]
  },
  {
   "cell_type": "code",
   "execution_count": 13,
   "metadata": {},
   "outputs": [
    {
     "data": {
      "text/html": [
       "<div>\n",
       "<style scoped>\n",
       "    .dataframe tbody tr th:only-of-type {\n",
       "        vertical-align: middle;\n",
       "    }\n",
       "\n",
       "    .dataframe tbody tr th {\n",
       "        vertical-align: top;\n",
       "    }\n",
       "\n",
       "    .dataframe thead th {\n",
       "        text-align: right;\n",
       "    }\n",
       "</style>\n",
       "<table border=\"1\" class=\"dataframe\">\n",
       "  <thead>\n",
       "    <tr style=\"text-align: right;\">\n",
       "      <th></th>\n",
       "      <th>Frequency(MHz)</th>\n",
       "      <th>IDC(A)</th>\n",
       "    </tr>\n",
       "  </thead>\n",
       "  <tbody>\n",
       "    <tr>\n",
       "      <td>0</td>\n",
       "      <td>15.6</td>\n",
       "      <td>0.144</td>\n",
       "    </tr>\n",
       "    <tr>\n",
       "      <td>1</td>\n",
       "      <td>22.4</td>\n",
       "      <td>0.207</td>\n",
       "    </tr>\n",
       "    <tr>\n",
       "      <td>2</td>\n",
       "      <td>29.8</td>\n",
       "      <td>0.274</td>\n",
       "    </tr>\n",
       "    <tr>\n",
       "      <td>3</td>\n",
       "      <td>29.5</td>\n",
       "      <td>0.273</td>\n",
       "    </tr>\n",
       "    <tr>\n",
       "      <td>4</td>\n",
       "      <td>35.5</td>\n",
       "      <td>0.322</td>\n",
       "    </tr>\n",
       "    <tr>\n",
       "      <td>5</td>\n",
       "      <td>45.1</td>\n",
       "      <td>0.424</td>\n",
       "    </tr>\n",
       "    <tr>\n",
       "      <td>6</td>\n",
       "      <td>58.8</td>\n",
       "      <td>0.551</td>\n",
       "    </tr>\n",
       "    <tr>\n",
       "      <td>7</td>\n",
       "      <td>60.8</td>\n",
       "      <td>0.546</td>\n",
       "    </tr>\n",
       "    <tr>\n",
       "      <td>8</td>\n",
       "      <td>70.1</td>\n",
       "      <td>0.653</td>\n",
       "    </tr>\n",
       "    <tr>\n",
       "      <td>9</td>\n",
       "      <td>70.2</td>\n",
       "      <td>0.632</td>\n",
       "    </tr>\n",
       "  </tbody>\n",
       "</table>\n",
       "</div>"
      ],
      "text/plain": [
       "   Frequency(MHz)  IDC(A)\n",
       "0            15.6   0.144\n",
       "1            22.4   0.207\n",
       "2            29.8   0.274\n",
       "3            29.5   0.273\n",
       "4            35.5   0.322\n",
       "5            45.1   0.424\n",
       "6            58.8   0.551\n",
       "7            60.8   0.546\n",
       "8            70.1   0.653\n",
       "9            70.2   0.632"
      ]
     },
     "execution_count": 13,
     "metadata": {},
     "output_type": "execute_result"
    }
   ],
   "source": [
    "ResFreq=pd.read_excel(\"ESRExperimentalData 2020-04-24.xlsx\",sheet_name=\"Sheet1\",header=0)\n",
    "ResFreq.columns=['Frequency(MHz)','IDC(A)']\n",
    "\n",
    "\n",
    "\n",
    "ResFreq.head(10)"
   ]
  },
  {
   "cell_type": "code",
   "execution_count": 24,
   "metadata": {},
   "outputs": [
    {
     "data": {
      "image/png": "[encoded data removed]",
      "text/plain": [
       "<Figure size 864x432 with 1 Axes>"
      ]
     },
     "metadata": {
      "needs_background": "light"
     },
     "output_type": "display_data"
    }
   ],
   "source": [
    "#We can quickly plot this data\n",
    "plt.figure(figsize=[12,6])\n",
    "plt.scatter(ResFreq['IDC(A)'],ResFreq['Frequency(MHz)'])\n",
    "plt.ylabel(\"Resonant Frequency(MHz)\")\n",
    "plt.xlabel(\"DC Current(A)\")\n",
    "plt.title(\"Resonant Frequencies\")\n",
    "plt.show()\n"
   ]
  },
  {
   "cell_type": "markdown",
   "metadata": {},
   "source": [
    "Now we can run a linear regression on this data and include it in the plot above."
   ]
  },
  {
   "cell_type": "code",
   "execution_count": 15,
   "metadata": {},
   "outputs": [
    {
     "name": "stdout",
     "output_type": "stream",
     "text": [
      "The slope is 110.70224366204194 with error 0.707655153645856\n",
      "\n",
      "\n",
      "The intercept is -0.7269884100992928 with error 0.4446230129740963\n"
     ]
    }
   ],
   "source": [
    "m,b,m_error,b_error=linearRegression(ResFreq['IDC(A)'],ResFreq['Frequency(MHz)'])\n",
    "print(\"The slope is \"+str(m)+\" with error \"+str(m_error))\n",
    "print(\"\\n\")\n",
    "print(\"The intercept is \"+ str(b)+ \" with error \"+str(b_error))"
   ]
  },
  {
   "cell_type": "markdown",
   "metadata": {},
   "source": [
    "From the result above, it is clear that the linear regression has picked up an intercept that we cannot dismiss. The intercept is most likely the cause of some sort of offset in the magnetic field, which we will calculate below.\n",
    "\n",
    "We will plot the data again, with the linear regression"
   ]
  },
  {
   "cell_type": "code",
   "execution_count": 25,
   "metadata": {},
   "outputs": [
    {
     "data": {
      "image/png": "[encoded data removed]",
      "text/plain": [
       "<Figure size 864x432 with 1 Axes>"
      ]
     },
     "metadata": {
      "needs_background": "light"
     },
     "output_type": "display_data"
    }
   ],
   "source": [
    "pred=ResFreq['IDC(A)']*m+b\n",
    "\n",
    "plt.figure(figsize=[12,6])\n",
    "plt.scatter(ResFreq['IDC(A)'],ResFreq['Frequency(MHz)'],label='Raw Data')\n",
    "plt.plot(ResFreq['IDC(A)'],pred,label='y= '+str(round(m,3))+\" x+ \"+str(round(b,3)))\n",
    "plt.ylabel(\"Resonant Frequency(MHz)\")\n",
    "plt.xlabel(\"DC Current(A)\")\n",
    "plt.title(\"Resonant Frequencies with Linear Regression\")\n",
    "plt.legend()\n",
    "plt.show()"
   ]
  },
  {
   "cell_type": "markdown",
   "metadata": {},
   "source": [
    "### Calculate the $R_B$ factor and the offset\n",
    "Next, we will use magnetic field measurements made to understand how the Magnetic field relates to the DC Current. With this we will be able to relate the $B$ to the $I_{DC}$ as shown below.\n",
    "\n",
    "<center>$B=R_BI_{DC}$</center>"
   ]
  },
  {
   "cell_type": "code",
   "execution_count": 17,
   "metadata": {},
   "outputs": [
    {
     "data": {
      "text/html": [
       "<div>\n",
       "<style scoped>\n",
       "    .dataframe tbody tr th:only-of-type {\n",
       "        vertical-align: middle;\n",
       "    }\n",
       "\n",
       "    .dataframe tbody tr th {\n",
       "        vertical-align: top;\n",
       "    }\n",
       "\n",
       "    .dataframe thead th {\n",
       "        text-align: right;\n",
       "    }\n",
       "</style>\n",
       "<table border=\"1\" class=\"dataframe\">\n",
       "  <thead>\n",
       "    <tr style=\"text-align: right;\">\n",
       "      <th></th>\n",
       "      <th>IDC(A)</th>\n",
       "      <th>B(mT)</th>\n",
       "    </tr>\n",
       "  </thead>\n",
       "  <tbody>\n",
       "    <tr>\n",
       "      <td>0</td>\n",
       "      <td>0.000</td>\n",
       "      <td>0.01</td>\n",
       "    </tr>\n",
       "    <tr>\n",
       "      <td>1</td>\n",
       "      <td>0.124</td>\n",
       "      <td>0.48</td>\n",
       "    </tr>\n",
       "    <tr>\n",
       "      <td>2</td>\n",
       "      <td>0.251</td>\n",
       "      <td>0.98</td>\n",
       "    </tr>\n",
       "    <tr>\n",
       "      <td>3</td>\n",
       "      <td>0.378</td>\n",
       "      <td>1.48</td>\n",
       "    </tr>\n",
       "    <tr>\n",
       "      <td>4</td>\n",
       "      <td>0.523</td>\n",
       "      <td>2.09</td>\n",
       "    </tr>\n",
       "  </tbody>\n",
       "</table>\n",
       "</div>"
      ],
      "text/plain": [
       "   IDC(A)  B(mT)\n",
       "0   0.000   0.01\n",
       "1   0.124   0.48\n",
       "2   0.251   0.98\n",
       "3   0.378   1.48\n",
       "4   0.523   2.09"
      ]
     },
     "execution_count": 17,
     "metadata": {},
     "output_type": "execute_result"
    }
   ],
   "source": [
    "#First import the Magnetic field data\n",
    "Bmeas=pd.read_excel(\"ESRExperimentalData 2020-04-24.xlsx\",sheet_name=\"Sheet2\",header=0)\n",
    "Bmeas.columns=['IDC(A)','B(mT)']\n",
    "\n",
    "\n",
    "Bmeas.head()"
   ]
  },
  {
   "cell_type": "code",
   "execution_count": 18,
   "metadata": {},
   "outputs": [
    {
     "data": {
      "image/png": "[encoded data removed]",
      "text/plain": [
       "<Figure size 864x432 with 1 Axes>"
      ]
     },
     "metadata": {
      "needs_background": "light"
     },
     "output_type": "display_data"
    }
   ],
   "source": [
    "plt.figure(figsize=[12,6])\n",
    "plt.scatter(Bmeas['IDC(A)'],Bmeas['B(mT)'],label='Raw Data')\n",
    "plt.ylabel(\"B(mT)\")\n",
    "plt.xlabel(\"Coil Current (A)\")\n",
    "plt.legend()\n",
    "plt.show()"
   ]
  },
  {
   "cell_type": "markdown",
   "metadata": {},
   "source": [
    "We can now take a linear Regression of this data to find the $R_B$ factor and the $B_{\\text{offset}}$ factor"
   ]
  },
  {
   "cell_type": "code",
   "execution_count": 40,
   "metadata": {},
   "outputs": [
    {
     "name": "stdout",
     "output_type": "stream",
     "text": [
      "The R_b is 39.374471856337344 with error 0.12622505038411672\n",
      "\n",
      "\n",
      "The B_offset is 0.0006446798644170214 with error 0.0075564773977669485\n"
     ]
    }
   ],
   "source": [
    "Rb,B_off,RbE,B_offE=linearRegression(Bmeas['IDC(A)'],Bmeas[\"B(mT)\"])\n",
    "Rb=Rb*10\n",
    "RbE=RbE*10\n",
    "print(\"The R_b is \"+str(Rb)+\" with error \"+str(RbE))\n",
    "print(\"\\n\")\n",
    "print(\"The B_offset is \"+ str(B_off)+ \" with error \"+str(B_offE))\n"
   ]
  },
  {
   "cell_type": "code",
   "execution_count": 41,
   "metadata": {},
   "outputs": [
    {
     "data": {
      "image/png": "[encoded data removed]",
      "text/plain": [
       "<Figure size 864x432 with 1 Axes>"
      ]
     },
     "metadata": {
      "needs_background": "light"
     },
     "output_type": "display_data"
    }
   ],
   "source": [
    "#We can do a quick plot with the Linear Regression\n",
    "\n",
    "plt.figure(figsize=[12,6])\n",
    "plt.scatter(Bmeas['IDC(A)'],Bmeas['B(mT)'],label='Raw Data')\n",
    "plt.plot(Bmeas[\"IDC(A)\"],(Rb/10)*Bmeas[\"IDC(A)\"]+B_off,label='y= '+str(round(Rb,3))+\" x+ \"+str(round(B_off,3)))\n",
    "plt.ylabel(\"B(mT)\")\n",
    "plt.xlabel(\"Coil Current (A)\")\n",
    "plt.legend()\n",
    "plt.show()"
   ]
  },
  {
   "cell_type": "markdown",
   "metadata": {},
   "source": [
    "As explained above, the intercept in the Resonant Frequency graph can be explained by the $B_{\\text{offset}}$ we just measured above. \n",
    "\n",
    "We need to now adjust the error in $R_B$ factor to account for the imprecision in the angle the detector was placed and the error in the device's reading as well. This totals to be 0.2% for the probe calibrartion and 0.4% for errors in aligning the detector. This can be calculated using the formula\n",
    "\n",
    "<center>$\\frac{\\sigma_{R_b}}{R_B}=\\sqrt{0.002^2+0.004^2+R_{b_\\text{error}}^2}$</center>\n",
    "\n"
   ]
  },
  {
   "cell_type": "code",
   "execution_count": 42,
   "metadata": {},
   "outputs": [
    {
     "name": "stdout",
     "output_type": "stream",
     "text": [
      "This makes the Error in R_b 0.005502443818447183\n"
     ]
    }
   ],
   "source": [
    "RbE=np.sqrt((RbE/Rb)**2+0.002**2+0.004**2)\n",
    "\n",
    "print(\"This makes the Error in R_b \"+str(RbE))"
   ]
  },
  {
   "cell_type": "markdown",
   "metadata": {},
   "source": [
    "With this we can calculate the $g_s$ value and its error using the following formula and the slope from the Resonant Frequencies Graph above. This will be done with the following equation which has been modified to handle the $B_{\\text{offset}}$\n",
    "\n",
    "\n",
    "\n",
    "<center>$\\nu_{s}=g_s\\frac{\\mu_{b}}{h}R_B I_{DC}+g_s\\frac{\\mu_{b}}{h}B_{\\text{offset}}$</center>\n",
    "\n",
    "From this equation we can see that the slope of the Resonant Frequencies graph,$m=g_s\\frac{\\mu_{b}}{h}R_B$. We can rearrange this to solve for $g_s=\\frac{m}{\\frac{\\mu_B}{h}R_b}$. Where $\\frac{\\mu_B}{h}=1.39962449361 $. \n",
    "\n",
    "We can handle the error using the following equation\n",
    "\n",
    "<center> $\\sigma_{g_s}=g_s\\sqrt{(\\frac{\\sigma_m}{m})^2+(\\frac{\\sigma_{R_B}}{R_B})^2}$</center>\n",
    "\n",
    "The acepted value for the $g_s=2.002 319 304 362 56 $. This was taken from the lab manual"
   ]
  },
  {
   "cell_type": "code",
   "execution_count": 52,
   "metadata": {},
   "outputs": [
    {
     "name": "stdout",
     "output_type": "stream",
     "text": [
      "The value for g_s is 2.01\n",
      "The error in g_s is 0.02\n",
      "The gs value measured deviates from the accepted value 0.32%\n"
     ]
    }
   ],
   "source": [
    "mu=1.39962449361\n",
    "\n",
    "gs=m/((mu)*Rb)\n",
    "\n",
    "print(\"The value for g_s is \"+str(round(gs,2)))\n",
    "\n",
    "gsE= gs*np.sqrt((m_error/m)**2+(RbE)**2)\n",
    "\n",
    "print(\"The error in g_s is \"+str(round(gsE,2)))\n",
    "\n",
    "acceptedgs=2.00231930436256\n",
    "\n",
    "\n",
    "error=((gs-acceptedgs)/acceptedgs)*100\n",
    "\n",
    "print(\"The gs value measured deviates from the accepted value \"+str(round(error,2))+\"%\")"
   ]
  },
  {
   "cell_type": "markdown",
   "metadata": {},
   "source": [
    "As can be seen above this makes the $g_s=2.01 \\pm 0.02$ which deviates from the accepted value by 0.32%."
   ]
  },
  {
   "cell_type": "code",
   "execution_count": null,
   "metadata": {
    "collapsed": true
   },
   "outputs": [],
   "source": []
  }
 ],
 "metadata": {
  "kernelspec": {
   "display_name": "Python 3",
   "language": "python",
   "name": "python3"
  },
  "language_info": {
   "codemirror_mode": {
    "name": "ipython",
    "version": 3
   },
   "file_extension": ".py",
   "mimetype": "text/x-python",
   "name": "python",
   "nbconvert_exporter": "python",
   "pygments_lexer": "ipython3",
   "version": "3.6.1"
  },
  "latex_envs": {
   "LaTeX_envs_menu_present": true,
   "autoclose": true,
   "autocomplete": true,
   "bibliofile": "biblio.bib",
   "cite_by": "apalike",
   "current_citInitial": 1,
   "eqLabelWithNumbers": true,
   "eqNumInitial": 1,
   "hotkeys": {
    "equation": "Ctrl-E",
    "itemize": "Ctrl-I"
   },
   "labels_anchors": false,
   "latex_user_defs": false,
   "report_style_numbering": false,
   "user_envs_cfg": false
  }
 },
 "nbformat": 4,
 "nbformat_minor": 2
}
